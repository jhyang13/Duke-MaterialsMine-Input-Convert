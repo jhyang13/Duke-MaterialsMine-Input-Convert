{
 "cells": [
  {
   "cell_type": "code",
   "execution_count": 1,
   "metadata": {},
   "outputs": [],
   "source": [
    "# Import Dependencies\n",
    "import re\n",
    "import xml.etree.ElementTree as ET\n",
    "import xmlschema"
   ]
  },
  {
   "cell_type": "code",
   "execution_count": 2,
   "metadata": {},
   "outputs": [
    {
     "name": "stdout",
     "output_type": "stream",
     "text": [
      "XML file has been generated and saved as C:/Users/jhyan/Documents/all/duke_research/MaterialsMine_XMLread/XML-Schema.xml\n"
     ]
    }
   ],
   "source": [
    "# Define the path to the original XSD file\n",
    "xsd_file_path = r'C:/Users/jhyan/Documents/all/duke_research/MaterialsMine_XMLread/XSD-Schema.xsd'\n",
    "\n",
    "# Read the XSD file content\n",
    "with open(xsd_file_path, 'r', encoding='utf-8') as file:\n",
    "    xsd_content = file.read()\n",
    "\n",
    "# Use regular expression to modify element names that do not conform to XML naming rules\n",
    "xsd_content = re.sub(r'name=\"(\\d)', r'name=\"D\\1', xsd_content)\n",
    "\n",
    "# Write the modified XSD content to a new file\n",
    "modified_xsd_file_path = r'C:/Users/jhyan/Documents/all/duke_research/MaterialsMine_XMLread/Modified-XSD-Schema.xsd'\n",
    "with open(modified_xsd_file_path, 'w', encoding='utf-8') as file:\n",
    "    file.write(xsd_content)\n",
    "\n",
    "# Load the modified XSD schema\n",
    "schema = xmlschema.XMLSchema(modified_xsd_file_path)\n",
    "\n",
    "def generate_element_structure(xsd_element):\n",
    "    \"\"\"\n",
    "    Recursively generate XML element structure based on XSD definitions.\n",
    "    \"\"\"\n",
    "    elem = ET.Element(xsd_element.name)\n",
    "    if xsd_element.type.is_complex():\n",
    "        content = xsd_element.type.content\n",
    "        if isinstance(content, xmlschema.validators.XsdGroup):\n",
    "            for child in content:\n",
    "                child_elem = generate_element_structure(child)\n",
    "                elem.append(child_elem)\n",
    "        else:\n",
    "            for child_name, child_element in content.items():\n",
    "                child_elem = generate_element_structure(child_element)\n",
    "                elem.append(child_elem)\n",
    "    return elem\n",
    "\n",
    "# Get the root element name from the XSD schema\n",
    "root_element_name = list(schema.elements.keys())[0]\n",
    "root_element = schema.elements[root_element_name]\n",
    "\n",
    "# Generate the XML root element structure\n",
    "root = generate_element_structure(root_element)\n",
    "\n",
    "# Convert the generated XML element tree to a string\n",
    "xml_string = ET.tostring(root, encoding='utf-8', method='xml').decode('utf-8')\n",
    "\n",
    "# Write the generated XML string to a file\n",
    "output_file = r'C:/Users/jhyan/Documents/all/duke_research/MaterialsMine_XMLread/XML-Schema.xml'\n",
    "with open(output_file, 'w', encoding='utf-8') as f:\n",
    "    f.write(xml_string)\n",
    "\n",
    "print(f'XML file has been generated and saved as {output_file}')"
   ]
  }
 ],
 "metadata": {
  "kernelspec": {
   "display_name": "base",
   "language": "python",
   "name": "python3"
  },
  "language_info": {
   "codemirror_mode": {
    "name": "ipython",
    "version": 3
   },
   "file_extension": ".py",
   "mimetype": "text/x-python",
   "name": "python",
   "nbconvert_exporter": "python",
   "pygments_lexer": "ipython3",
   "version": "3.11.5"
  }
 },
 "nbformat": 4,
 "nbformat_minor": 2
}
