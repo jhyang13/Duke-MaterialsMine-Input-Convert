{
 "cells": [
  {
   "cell_type": "code",
   "execution_count": 1,
   "metadata": {},
   "outputs": [],
   "source": [
    "# Import Dependencies\n",
    "import re\n",
    "import xml.etree.ElementTree as ET\n",
    "import xmlschema\n",
    "import json"
   ]
  },
  {
   "cell_type": "markdown",
   "metadata": {},
   "source": [
    "### Create a JSON file with the specific input data or information we want to curate"
   ]
  },
  {
   "cell_type": "code",
   "execution_count": 2,
   "metadata": {},
   "outputs": [],
   "source": [
    "# Function to remove empty fields from the dictionary\n",
    "def remove_empty_fields(data_dict):\n",
    "    if isinstance(data_dict, dict):\n",
    "        new_dict = {}\n",
    "        for k, v in data_dict.items():\n",
    "            if v is not None and v != '' and v != {} and v != [] and v != \"null\":\n",
    "                cleaned_value = remove_empty_fields(v)\n",
    "                if cleaned_value is not None and cleaned_value != '' and cleaned_value != {} and cleaned_value != []:\n",
    "                    new_dict[k] = cleaned_value\n",
    "        return new_dict\n",
    "    elif isinstance(data_dict, list):\n",
    "        return [remove_empty_fields(item) for item in data_dict if item is not None and item != '' and item != {} and item != [] and item != \"null\"]\n",
    "    else:\n",
    "        return data_dict\n",
    "\n",
    "# Function to add specified data to the dictionary\n",
    "def add_data_to_dict(data_dict, data):\n",
    "    for key, value in data.items():\n",
    "        if isinstance(value, dict):\n",
    "            if key not in data_dict or not isinstance(data_dict[key], dict):\n",
    "                data_dict[key] = {}\n",
    "            add_data_to_dict(data_dict[key], value)\n",
    "        else:\n",
    "            data_dict[key] = value\n",
    "    return data_dict\n",
    "\n",
    "# Load the JSON file\n",
    "input_file = r'C:/Users/jhyan/Documents/all/duke_research/MaterialsMine_XMLconvert/JSON-Schema.json'\n",
    "with open(input_file, 'r', encoding='utf-8') as f:\n",
    "    json_data = json.load(f)\n"
   ]
  },
  {
   "cell_type": "markdown",
   "metadata": {},
   "source": [
    "### Input the data or information we want to curate"
   ]
  },
  {
   "cell_type": "code",
   "execution_count": 3,
   "metadata": {},
   "outputs": [],
   "source": [
    "# Specify the data to be added\n",
    "data = {\n",
    "    'DATA_SOURCE': {\n",
    "        'Citation': {\n",
    "            'CommonFields': {\n",
    "                'Title': 'Sample_test',\n",
    "                'Author': 'Sample_test',\n",
    "                'CitationType': 'Sample_test',\n",
    "                'PublicationYear': 'Sample_test'\n",
    "            }\n",
    "        }\n",
    "    },\n",
    "    'MATERIALS': {\n",
    "        'Matrix': {\n",
    "            'ChemicalName': 'Sample_test'\n",
    "        }\n",
    "    }\n",
    "}"
   ]
  },
  {
   "cell_type": "code",
   "execution_count": 4,
   "metadata": {},
   "outputs": [
    {
     "name": "stdout",
     "output_type": "stream",
     "text": [
      "Cleaned JSON data has been saved in the C:/Users/jhyan/Documents/all/duke_research/MaterialsMine_XMLconvert/XML_to_JSON/JSON-Input.json file.\n"
     ]
    }
   ],
   "source": [
    "# Add the specified data to the JSON data\n",
    "json_data_with_data = add_data_to_dict(json_data, data)\n",
    "\n",
    "# Remove empty fields from the JSON data\n",
    "cleaned_json_data = remove_empty_fields(json_data_with_data)\n",
    "\n",
    "# Write the cleaned JSON data to a file\n",
    "output_file = r'C:/Users/jhyan/Documents/all/duke_research/MaterialsMine_XMLconvert/XML_to_JSON/JSON-Input.json'\n",
    "with open(output_file, 'w', encoding='utf-8') as f:\n",
    "    json.dump(cleaned_json_data, f, indent=4)\n",
    "\n",
    "print(f'Cleaned JSON data has been saved in the {output_file} file.')"
   ]
  }
 ],
 "metadata": {
  "kernelspec": {
   "display_name": "base",
   "language": "python",
   "name": "python3"
  },
  "language_info": {
   "codemirror_mode": {
    "name": "ipython",
    "version": 3
   },
   "file_extension": ".py",
   "mimetype": "text/x-python",
   "name": "python",
   "nbconvert_exporter": "python",
   "pygments_lexer": "ipython3",
   "version": "3.11.5"
  }
 },
 "nbformat": 4,
 "nbformat_minor": 2
}
