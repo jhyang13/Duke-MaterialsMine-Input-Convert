{
 "cells": [
  {
   "cell_type": "code",
   "execution_count": 13,
   "metadata": {},
   "outputs": [],
   "source": [
    "# Import Dependencies\n",
    "import re\n",
    "import xml.etree.ElementTree as ET\n",
    "import xmlschema"
   ]
  },
  {
   "cell_type": "markdown",
   "metadata": {},
   "source": [
    "### Convert a Dictionary Data Structure into a XML File"
   ]
  },
  {
   "cell_type": "code",
   "execution_count": 15,
   "metadata": {},
   "outputs": [],
   "source": [
    "# Load the existing XML file\n",
    "input_file = r'C:/Users/jhyan/Documents/all/Duke_research/MaterialsMine_XMLconvert/XML-Schema.xml'\n",
    "tree = ET.parse(input_file)\n",
    "root = tree.getroot()\n",
    "\n",
    "def add_data_to_element(element, data):\n",
    "    \"\"\"\n",
    "    Recursively add content to XML elements based on provided data.\n",
    "    \n",
    "    Args:\n",
    "    element (xml.etree.ElementTree.Element): The XML element to which data should be added.\n",
    "    data (dict): A dictionary containing the data to be added to the XML elements.\n",
    "    \"\"\"\n",
    "    for child in element:\n",
    "        if child.tag in data:\n",
    "            if isinstance(data[child.tag], dict):\n",
    "                # Recursively add data to child elements if the data is a dictionary\n",
    "                add_data_to_element(child, data[child.tag])\n",
    "            else:\n",
    "                # Set the text of the element to the provided data\n",
    "                child.text = data[child.tag]\n",
    "        else:\n",
    "            # Recursively call the function for the next level of elements\n",
    "            add_data_to_element(child, data)\n",
    "\n",
    "def remove_empty_elements(element):\n",
    "    \"\"\"\n",
    "    Recursively remove elements that have no data.\n",
    "    \n",
    "    Args:\n",
    "    element (xml.etree.ElementTree.Element): The XML element to be checked for empty children.\n",
    "    \"\"\"\n",
    "    for child in list(element):\n",
    "        remove_empty_elements(child)\n",
    "        # Remove the element if it has no text and no children\n",
    "        if not (child.text and child.text.strip()) and len(child) == 0:\n",
    "            element.remove(child)\n",
    "\n",
    "# Specify the data to be added\n",
    "data = {\n",
    "    'Title': 'Sample_test',\n",
    "    'Author': 'Sample_test',\n",
    "    'Citation Type': 'Sample_test',\n",
    "    'Publication Year': 'Sample_test',\n",
    "    'Matrix': {\n",
    "        'ChemicalName': 'Sample_test'\n",
    "    }\n",
    "}\n",
    "\n",
    "# Add data to the existing XML structure\n",
    "add_data_to_element(root, data)\n",
    "\n",
    "# Remove elements that have no data\n",
    "remove_empty_elements(root)\n",
    "\n",
    "# Write the modified XML data to a file\n",
    "output_file = r'C:/Users/jhyan/Documents/all/Duke_research/MaterialsMine_XMLconvert/output-XML-test.xml'\n",
    "tree.write(output_file, encoding='utf-8', xml_declaration=True)\n",
    "\n",
    "print(f'XML file has been modified and saved as {output_file}')"
   ]
  }
 ],
 "metadata": {
  "kernelspec": {
   "display_name": "base",
   "language": "python",
   "name": "python3"
  },
  "language_info": {
   "codemirror_mode": {
    "name": "ipython",
    "version": 3
   },
   "file_extension": ".py",
   "mimetype": "text/x-python",
   "name": "python",
   "nbconvert_exporter": "python",
   "pygments_lexer": "ipython3",
   "version": "3.11.5"
  }
 },
 "nbformat": 4,
 "nbformat_minor": 2
}
