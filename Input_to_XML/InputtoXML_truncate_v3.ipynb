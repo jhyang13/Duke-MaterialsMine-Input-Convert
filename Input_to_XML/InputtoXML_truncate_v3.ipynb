{
 "cells": [
  {
   "cell_type": "code",
   "execution_count": 33,
   "metadata": {},
   "outputs": [],
   "source": [
    "# Import Dependencies\n",
    "import re\n",
    "import xml.etree.ElementTree as ET\n",
    "import xmlschema\n",
    "import pandas as pd\n",
    "import yaml"
   ]
  },
  {
   "cell_type": "markdown",
   "metadata": {},
   "source": [
    "#### Convert an input file into a XML File\n",
    "\n",
    "#### .yaml file"
   ]
  },
  {
   "cell_type": "code",
   "execution_count": 34,
   "metadata": {},
   "outputs": [
    {
     "name": "stdout",
     "output_type": "stream",
     "text": [
      "XML file has been generated and saved as C:/Users/jhyan/Documents/all/duke_research/MaterialsMine_XMLconvert/data/output_files/L183_S4_Potschke_2003_output.xml\n"
     ]
    }
   ],
   "source": [
    "def parse_yaml_to_dict(file_path):\n",
    "    \"\"\"\n",
    "    Parses a YAML file into a dictionary.\n",
    "\n",
    "    Args:\n",
    "    - file_path (str): Path to the YAML file.\n",
    "\n",
    "    Returns:\n",
    "    - dict: Dictionary representing the data from the YAML file.\n",
    "    \"\"\"\n",
    "    with open(file_path, 'r', encoding='utf-8') as file:\n",
    "        data_dict = yaml.safe_load(file)\n",
    "    return data_dict\n",
    "\n",
    "def add_data_to_element(element, data):\n",
    "    \"\"\"\n",
    "    Recursively adds data to an XML element from a dictionary or list.\n",
    "\n",
    "    Args:\n",
    "    - element (xml.etree.ElementTree.Element): The XML element to which data will be added.\n",
    "    - data (dict or list or str): The data to be added to the element. Can be a dictionary, list, or string.\n",
    "    \"\"\"\n",
    "    if isinstance(data, dict):\n",
    "        for key, value in data.items():\n",
    "            if isinstance(value, list):\n",
    "                for item in value:\n",
    "                    child = ET.SubElement(element, key)\n",
    "                    add_data_to_element(child, item)\n",
    "            else:\n",
    "                child = ET.SubElement(element, key)\n",
    "                add_data_to_element(child, value)\n",
    "    elif isinstance(data, list):\n",
    "        for item in data:\n",
    "            if isinstance(item, dict):\n",
    "                add_data_to_element(element, item)\n",
    "            else:\n",
    "                sub_element = ET.SubElement(element, element.tag)\n",
    "                sub_element.text = str(item)\n",
    "    else:\n",
    "        element.text = str(data)\n",
    "\n",
    "def remove_empty_elements(element):\n",
    "    \"\"\"\n",
    "    Recursively removes empty elements from an XML element.\n",
    "\n",
    "    Args:\n",
    "    - element (xml.etree.ElementTree.Element): The XML element from which empty elements will be removed.\n",
    "    \"\"\"\n",
    "    for child in list(element):\n",
    "        remove_empty_elements(child)\n",
    "        if not (child.text and child.text.strip()) and len(child) == 0:\n",
    "            element.remove(child)\n",
    "\n",
    "# File paths\n",
    "yaml_file_path = r'C:/Users/jhyan/Documents/all/duke_research/MaterialsMine_XMLconvert/data/input_files/L183_S4_Potschke_2003.yaml'  # Replace with your YAML file path\n",
    "xml_output_path = r'C:/Users/jhyan/Documents/all/duke_research/MaterialsMine_XMLconvert/data/output_files/L183_S4_Potschke_2003_output.xml'  # Replace with your output XML file path\n",
    "\n",
    "# Read and parse YAML file data\n",
    "data_dict = parse_yaml_to_dict(yaml_file_path)\n",
    "\n",
    "# Create XML root element\n",
    "root = ET.Element('PolymerNanocomposite')\n",
    "\n",
    "# Populate XML structure with data\n",
    "add_data_to_element(root, data_dict)\n",
    "\n",
    "# Remove empty elements\n",
    "remove_empty_elements(root)\n",
    "\n",
    "# Convert XML element tree to string and write to file\n",
    "tree = ET.ElementTree(root)\n",
    "tree.write(xml_output_path, encoding='utf-8', xml_declaration=True)\n",
    "\n",
    "print(f'XML file has been generated and saved as {xml_output_path}')\n"
   ]
  }
 ],
 "metadata": {
  "kernelspec": {
   "display_name": "base",
   "language": "python",
   "name": "python3"
  },
  "language_info": {
   "codemirror_mode": {
    "name": "ipython",
    "version": 3
   },
   "file_extension": ".py",
   "mimetype": "text/x-python",
   "name": "python",
   "nbconvert_exporter": "python",
   "pygments_lexer": "ipython3",
   "version": "3.11.5"
  }
 },
 "nbformat": 4,
 "nbformat_minor": 2
}
