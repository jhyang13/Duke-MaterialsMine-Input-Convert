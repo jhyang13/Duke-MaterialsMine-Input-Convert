{
 "cells": [
  {
   "cell_type": "code",
   "execution_count": 4,
   "metadata": {},
   "outputs": [],
   "source": [
    "# Import Dependencies\n",
    "import re\n",
    "import xml.etree.ElementTree as ET\n",
    "import xmlschema\n",
    "import pandas as pd"
   ]
  },
  {
   "cell_type": "markdown",
   "metadata": {},
   "source": [
    "### Create a XML file with an Input File"
   ]
  },
  {
   "cell_type": "code",
   "execution_count": 13,
   "metadata": {},
   "outputs": [
    {
     "name": "stdout",
     "output_type": "stream",
     "text": [
      "XML file has been generated and saved as C:/Users/jhyan/Documents/all/duke_research/MaterialsMine_XMLconvert/output-L183_S2_Potschke_2003.xml\n"
     ]
    }
   ],
   "source": [
    "# 读取TXT文件并解析数据\n",
    "def parse_txt_to_dict(file_path):\n",
    "    data_dict = {}\n",
    "    with open(file_path, 'r', encoding='utf-8') as file:\n",
    "        lines = file.readlines()\n",
    "        for line in lines:\n",
    "            if line.strip():\n",
    "                key, value = line.split(':', 1)\n",
    "                key = key.strip()\n",
    "                value = value.strip()\n",
    "                if key in data_dict:\n",
    "                    if isinstance(data_dict[key], list):\n",
    "                        data_dict[key].append(value)\n",
    "                    else:\n",
    "                        data_dict[key] = [data_dict[key], value]\n",
    "                else:\n",
    "                    data_dict[key] = value\n",
    "    return data_dict\n",
    "\n",
    "# 根据前缀确定父节点\n",
    "def get_parent_element(root, prefix):\n",
    "    for elem in root.iter():\n",
    "        if elem.tag.lower().endswith(prefix.lower()):\n",
    "            return elem\n",
    "    return None\n",
    "\n",
    "# 填充XML结构\n",
    "def fill_xml_structure(root, data_dict):\n",
    "    for key, value in data_dict.items():\n",
    "        \n",
    "        if key.startswith('Matrix_'):\n",
    "            prefix = 'MatrixComponent'\n",
    "            field_name = key.replace('Matrix_', '')\n",
    "        elif key.startswith('Filler_'):\n",
    "            prefix = 'FillerComponent'\n",
    "            field_name = key.replace('Filler_', '')\n",
    "        else:\n",
    "            prefix = None\n",
    "            field_name = key\n",
    "\n",
    "        if prefix:\n",
    "            parent = get_parent_element(root, prefix)\n",
    "        else:\n",
    "            parent = root\n",
    "\n",
    "        if parent is not None:\n",
    "            elem = parent.find(field_name)\n",
    "            if elem is None:\n",
    "                # 如果找不到元素，则创建新的\n",
    "                elem = ET.SubElement(parent, field_name)\n",
    "            if isinstance(value, list):\n",
    "                elem.text = ', '.join(value)\n",
    "            else:\n",
    "                elem.text = value\n",
    "\n",
    "# 删除空节点\n",
    "def remove_empty_nodes(element):\n",
    "    for child in list(element):\n",
    "        remove_empty_nodes(child)\n",
    "        if len(child) == 0 and (child.text is None or (isinstance(child.text, str) and child.text.strip() == '')):\n",
    "            element.remove(child)\n",
    "\n",
    "# 主程序\n",
    "def main():\n",
    "    txt_file_path = r'C:/Users/jhyan/Documents/all/duke_research/MaterialsMine_XMLconvert/input_files/L183_S2_Potschke_2003.txt'\n",
    "    xml_file_path = r'C:/Users/jhyan/Documents/all/duke_research/MaterialsMine_XMLconvert/XML-Schema.xml'\n",
    "    xml_output_path = r'C:/Users/jhyan/Documents/all/duke_research/MaterialsMine_XMLconvert/output-L183_S2_Potschke_2003.xml'\n",
    "\n",
    "    # 读取并解析TXT文件数据\n",
    "    data_dict = parse_txt_to_dict(txt_file_path)\n",
    "\n",
    "    # 读取XML文件\n",
    "    tree = ET.parse(xml_file_path)\n",
    "    root = tree.getroot()\n",
    "\n",
    "    # 填充XML结构\n",
    "    fill_xml_structure(root, data_dict)\n",
    "\n",
    "    # 删除空节点\n",
    "    remove_empty_nodes(root)\n",
    "\n",
    "    # 将XML元素树转换为字符串\n",
    "    xml_string = ET.tostring(root, encoding='utf-8', method='xml').decode('utf-8')\n",
    "\n",
    "    # 写入XML文件\n",
    "    with open(xml_output_path, 'w', encoding='utf-8') as f:\n",
    "        f.write(xml_string)\n",
    "\n",
    "    print(f'XML file has been generated and saved as {xml_output_path}')\n",
    "\n",
    "if __name__ == \"__main__\":\n",
    "    main()"
   ]
  }
 ],
 "metadata": {
  "kernelspec": {
   "display_name": "base",
   "language": "python",
   "name": "python3"
  },
  "language_info": {
   "codemirror_mode": {
    "name": "ipython",
    "version": 3
   },
   "file_extension": ".py",
   "mimetype": "text/x-python",
   "name": "python",
   "nbconvert_exporter": "python",
   "pygments_lexer": "ipython3",
   "version": "3.11.5"
  }
 },
 "nbformat": 4,
 "nbformat_minor": 2
}
