{
 "cells": [
  {
   "cell_type": "code",
   "execution_count": 1,
   "metadata": {},
   "outputs": [],
   "source": [
    "# Import Dependencies\n",
    "import re\n",
    "import xml.etree.ElementTree as ET\n",
    "import xmlschema\n",
    "import json"
   ]
  },
  {
   "cell_type": "markdown",
   "metadata": {},
   "source": [
    "### Convert XML to JSON"
   ]
  },
  {
   "cell_type": "code",
   "execution_count": 2,
   "metadata": {},
   "outputs": [
    {
     "name": "stdout",
     "output_type": "stream",
     "text": [
      "XML data has been successfully converted to JSON format and saved in the C:/Users/jhyan/Documents/all/duke_research/MaterialsMine_XMLconvert/JSON-Schema.json file.\n"
     ]
    }
   ],
   "source": [
    "# Recursively convert XML elements to a dictionary\n",
    "def xml_to_dict(element):\n",
    "    if len(element) == 0:\n",
    "        return element.text\n",
    "    result = {}\n",
    "    for child in element:\n",
    "        child_dict = xml_to_dict(child)\n",
    "        if child.tag in result:\n",
    "            if isinstance(result[child.tag], list):\n",
    "                result[child.tag].append(child_dict)\n",
    "            else:\n",
    "                result[child.tag] = [result[child.tag], child_dict]\n",
    "        else:\n",
    "            result[child.tag] = child_dict\n",
    "    return result\n",
    "\n",
    "# Load the XML file\n",
    "input_file = r'C:/Users/jhyan/Documents/all/duke_research/MaterialsMine_XMLconvert/XML-Schema.xml'\n",
    "tree = ET.parse(input_file)\n",
    "root = tree.getroot()\n",
    "\n",
    "# Convert XML to a dictionary\n",
    "xml_dict = xml_to_dict(root)\n",
    "\n",
    "# Convert the dictionary to JSON format\n",
    "json_data = json.dumps(xml_dict, indent=4)\n",
    "\n",
    "# Write the JSON data to a file\n",
    "output_file = r'C:/Users/jhyan/Documents/all/duke_research/MaterialsMine_XMLconvert/JSON-Schema.json'\n",
    "with open(output_file, 'w') as f:\n",
    "    f.write(json_data)\n",
    "\n",
    "print(f'XML data has been successfully converted to JSON format and saved in the {output_file} file.')"
   ]
  }
 ],
 "metadata": {
  "kernelspec": {
   "display_name": "base",
   "language": "python",
   "name": "python3"
  },
  "language_info": {
   "codemirror_mode": {
    "name": "ipython",
    "version": 3
   },
   "file_extension": ".py",
   "mimetype": "text/x-python",
   "name": "python",
   "nbconvert_exporter": "python",
   "pygments_lexer": "ipython3",
   "version": "3.11.5"
  }
 },
 "nbformat": 4,
 "nbformat_minor": 2
}
