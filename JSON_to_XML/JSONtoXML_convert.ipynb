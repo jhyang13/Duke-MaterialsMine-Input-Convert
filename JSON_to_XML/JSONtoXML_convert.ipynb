{
 "cells": [
  {
   "cell_type": "code",
   "execution_count": 1,
   "metadata": {},
   "outputs": [],
   "source": [
    "# Import Dependencies\n",
    "import re\n",
    "import xml.etree.ElementTree as ET\n",
    "import xmlschema\n",
    "import json"
   ]
  },
  {
   "cell_type": "markdown",
   "metadata": {},
   "source": [
    "### Convert JSON to XML"
   ]
  },
  {
   "cell_type": "code",
   "execution_count": 2,
   "metadata": {},
   "outputs": [
    {
     "name": "stdout",
     "output_type": "stream",
     "text": [
      "JSON data has been successfully converted to XML format and saved in the C:/Users/jhyan/Documents/all/duke_research/MaterialsMine_XMLconvert/JSON-to-XML-Schema.xml file.\n"
     ]
    }
   ],
   "source": [
    "# Recursively convert dictionary to XML elements\n",
    "def dict_to_xml(tag, d):\n",
    "    element = ET.Element(tag)\n",
    "    if isinstance(d, dict):\n",
    "        for key, val in d.items():\n",
    "            child = dict_to_xml(key, val)\n",
    "            element.append(child)\n",
    "    elif isinstance(d, list):\n",
    "        for item in d:\n",
    "            child = dict_to_xml(tag, item)\n",
    "            element.append(child)\n",
    "    else:\n",
    "        element.text = str(d)\n",
    "    return element\n",
    "\n",
    "# Helper function to create the root element\n",
    "def create_root_element(root_tag, d):\n",
    "    root = ET.Element(root_tag)\n",
    "    for key, val in d.items():\n",
    "        child = dict_to_xml(key, val)\n",
    "        root.append(child)\n",
    "    return root\n",
    "\n",
    "# Load the JSON file\n",
    "input_file = r'C:/Users/jhyan/Documents/all/duke_research/MaterialsMine_XMLconvert/JSON-Schema.json'\n",
    "with open(input_file, 'r') as f:\n",
    "    json_data = json.load(f)\n",
    "\n",
    "# Convert JSON dictionary to XML\n",
    "root_tag = \"PolymerNanocomposite\"\n",
    "root = create_root_element(root_tag, json_data)\n",
    "\n",
    "# Convert the XML element tree to a string\n",
    "xml_data = ET.tostring(root, encoding='unicode')\n",
    "\n",
    "# Write the XML data to a file\n",
    "output_file = r'C:/Users/jhyan/Documents/all/duke_research/MaterialsMine_XMLconvert/JSON-to-XML-Schema.xml'\n",
    "with open(output_file, 'w') as f:\n",
    "    f.write(xml_data)\n",
    "\n",
    "print(f'JSON data has been successfully converted to XML format and saved in the {output_file} file.')"
   ]
  }
 ],
 "metadata": {
  "kernelspec": {
   "display_name": "base",
   "language": "python",
   "name": "python3"
  },
  "language_info": {
   "codemirror_mode": {
    "name": "ipython",
    "version": 3
   },
   "file_extension": ".py",
   "mimetype": "text/x-python",
   "name": "python",
   "nbconvert_exporter": "python",
   "pygments_lexer": "ipython3",
   "version": "3.11.5"
  }
 },
 "nbformat": 4,
 "nbformat_minor": 2
}
