{
 "cells": [
  {
   "cell_type": "code",
   "execution_count": 1,
   "metadata": {},
   "outputs": [],
   "source": [
    "# Import Dependencies\n",
    "import re\n",
    "import xml.etree.ElementTree as ET\n",
    "import xmlschema"
   ]
  },
  {
   "cell_type": "code",
   "execution_count": 2,
   "metadata": {},
   "outputs": [
    {
     "name": "stdout",
     "output_type": "stream",
     "text": [
      "XML文件已生成并保存为 C:/Users/jhyan/Documents/all/duke_research/MaterialsMine_XMLread/output.xml\n"
     ]
    }
   ],
   "source": [
    "# 读取并修改XSD文件\n",
    "xsd_file_path = r'C:/Users/jhyan/Documents/all/duke_research/MaterialsMine_XMLread/XSD-Schema.xsd'\n",
    "\n",
    "with open(xsd_file_path, 'r', encoding='utf-8') as file:\n",
    "    xsd_content = file.read()\n",
    "\n",
    "# 使用正则表达式修改不符合命名规则的元素名称\n",
    "xsd_content = re.sub(r'name=\"(\\d)', r'name=\"D\\1', xsd_content)\n",
    "\n",
    "# 将修改后的XSD内容写回文件\n",
    "modified_xsd_file_path = r'C:/Users/jhyan/Documents/all/duke_research/MaterialsMine_XMLread/Modified-XSD-Schema.xsd'\n",
    "with open(modified_xsd_file_path, 'w', encoding='utf-8') as file:\n",
    "    file.write(xsd_content)\n",
    "\n",
    "# 加载修改后的XSD模式\n",
    "schema = xmlschema.XMLSchema(modified_xsd_file_path)\n",
    "\n",
    "def generate_element_structure(xsd_element):\n",
    "    \"\"\"\n",
    "    递归生成符合XSD定义的XML元素结构。\n",
    "    \"\"\"\n",
    "    elem = ET.Element(xsd_element.name)\n",
    "    if xsd_element.type.is_complex():\n",
    "        content = xsd_element.type.content\n",
    "        if isinstance(content, xmlschema.validators.XsdGroup):\n",
    "            for child in content:\n",
    "                child_elem = generate_element_structure(child)\n",
    "                elem.append(child_elem)\n",
    "        else:\n",
    "            for child_name, child_element in content.items():\n",
    "                child_elem = generate_element_structure(child_element)\n",
    "                elem.append(child_elem)\n",
    "    return elem\n",
    "\n",
    "# 获取XSD文件的根元素名称\n",
    "root_element_name = list(schema.elements.keys())[0]\n",
    "root_element = schema.elements[root_element_name]\n",
    "\n",
    "# 生成XML根元素结构\n",
    "root = generate_element_structure(root_element)\n",
    "\n",
    "# 将生成的XML数据转换为字符串格式\n",
    "xml_string = ET.tostring(root, encoding='utf-8', method='xml').decode('utf-8')\n",
    "\n",
    "# 将生成的XML字符串写入文件\n",
    "output_file = r'C:/Users/jhyan/Documents/all/duke_research/MaterialsMine_XMLread/output.xml'\n",
    "with open(output_file, 'w', encoding='utf-8') as f:\n",
    "    f.write(xml_string)\n",
    "\n",
    "print(f'XML文件已生成并保存为 {output_file}')"
   ]
  },
  {
   "cell_type": "code",
   "execution_count": 36,
   "metadata": {},
   "outputs": [
    {
     "name": "stdout",
     "output_type": "stream",
     "text": [
      "XML文件已生成并保存为 C:/Users/jhyan/Documents/all/duke_research/MaterialsMine_XMLread/output.xml\n"
     ]
    }
   ],
   "source": [
    "# 读取并修改XSD文件\n",
    "xsd_file_path = r'C:/Users/jhyan/Documents/all/duke_research/MaterialsMine_XMLread/XSD-Schema.xsd'\n",
    "\n",
    "with open(xsd_file_path, 'r', encoding='utf-8') as file:\n",
    "    xsd_content = file.read()\n",
    "\n",
    "# 使用正则表达式修改不符合命名规则的元素名称\n",
    "xsd_content = re.sub(r'name=\"(\\d)', r'name=\"D\\1', xsd_content)\n",
    "\n",
    "# 将修改后的XSD内容写回文件\n",
    "modified_xsd_file_path = r'C:/Users/jhyan/Documents/all/duke_research/MaterialsMine_XMLread/Modified-XSD-Schema.xsd'\n",
    "with open(modified_xsd_file_path, 'w', encoding='utf-8') as file:\n",
    "    file.write(xsd_content)\n",
    "\n",
    "# 加载修改后的XSD模式\n",
    "schema = xmlschema.XMLSchema(modified_xsd_file_path)\n",
    "\n",
    "def generate_element_with_data(xsd_element, data):\n",
    "    \"\"\"\n",
    "    递归生成并填充符合XSD定义的XML元素，只填充特定的数据。\n",
    "    \"\"\"\n",
    "    elem = ET.Element(xsd_element.name)\n",
    "    if xsd_element.type.is_complex():\n",
    "        content = xsd_element.type.content\n",
    "        if isinstance(content, xmlschema.validators.XsdGroup):\n",
    "            for child in content:\n",
    "                child_name = child.name\n",
    "                child_elem = generate_element_with_data(child, data.get(child_name, {}))\n",
    "                elem.append(child_elem)\n",
    "        else:\n",
    "            for child_name, child_element in content.items():\n",
    "                child_elem = generate_element_with_data(child_element, data.get(child_name, {}))\n",
    "                elem.append(child_elem)\n",
    "    else:\n",
    "        elem.text = str(data)\n",
    "    return elem\n",
    "\n",
    "# 定义需要填充的数据\n",
    "data = {\n",
    "    'Title': 'Your Title Here',\n",
    "    'Matrix': {\n",
    "        'ChemicalName': 'Your Chemical Name Here'\n",
    "    }\n",
    "}\n",
    "\n",
    "# 获取XSD文件的根元素名称\n",
    "root_element_name = list(schema.elements.keys())[0]\n",
    "root_element = schema.elements[root_element_name]\n",
    "\n",
    "# 生成并填充XML根元素\n",
    "root = generate_element_with_data(root_element, data)\n",
    "\n",
    "# 将生成的XML数据转换为字符串格式\n",
    "xml_string = ET.tostring(root, encoding='utf-8', method='xml').decode('utf-8')\n",
    "\n",
    "# 将生成的XML字符串写入文件\n",
    "output_file = r'C:/Users/jhyan/Documents/all/duke_research/MaterialsMine_XMLread/output.xml'\n",
    "with open(output_file, 'w', encoding='utf-8') as f:\n",
    "    f.write(xml_string)\n",
    "\n",
    "print(f'XML文件已生成并保存为 {output_file}')"
   ]
  }
 ],
 "metadata": {
  "kernelspec": {
   "display_name": "base",
   "language": "python",
   "name": "python3"
  },
  "language_info": {
   "codemirror_mode": {
    "name": "ipython",
    "version": 3
   },
   "file_extension": ".py",
   "mimetype": "text/x-python",
   "name": "python",
   "nbconvert_exporter": "python",
   "pygments_lexer": "ipython3",
   "version": "3.11.5"
  }
 },
 "nbformat": 4,
 "nbformat_minor": 2
}
